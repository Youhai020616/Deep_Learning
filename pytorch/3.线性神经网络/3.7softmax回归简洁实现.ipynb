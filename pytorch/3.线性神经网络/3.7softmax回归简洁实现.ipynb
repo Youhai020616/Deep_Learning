{
 "cells": [
  {
   "cell_type": "code",
   "execution_count": 1,
   "metadata": {},
   "outputs": [],
   "source": [
    "import torch\n",
    "from torch import nn\n",
    "from d2l import torch as d2l\n",
    "\n",
    "batch_size = 256\n",
    "train_iter, test_iter = d2l.load_data_fashion_mnist(batch_size)\n"
   ]
  },
  {
   "cell_type": "code",
   "execution_count": 2,
   "metadata": {},
   "outputs": [
    {
     "data": {
      "text/plain": [
       "Sequential(\n",
       "  (0): Flatten(start_dim=1, end_dim=-1)\n",
       "  (1): Linear(in_features=784, out_features=10, bias=True)\n",
       ")"
      ]
     },
     "execution_count": 2,
     "metadata": {},
     "output_type": "execute_result"
    }
   ],
   "source": [
    "# 初始化模型参数\n",
    "net = nn.Sequential(nn.Flatten(), nn.Linear(784, 10))\n",
    "\n",
    "def init_weights(m):\n",
    "    if type(m) == nn.Linear:\n",
    "        nn.init.normal_(m.weight, std=0.01)\n",
    "\n",
    "net.apply(init_weights)\n",
    "\n"
   ]
  },
  {
   "cell_type": "code",
   "execution_count": 3,
   "metadata": {},
   "outputs": [],
   "source": [
    "loss = nn.CrossEntropyLoss(reduction='none')\n"
   ]
  },
  {
   "cell_type": "code",
   "execution_count": null,
   "metadata": {},
   "outputs": [],
   "source": [
    "trainer = torch.optim.SGD(net.parameters(), lr=0.1)\n"
   ]
  },
  {
   "cell_type": "code",
   "execution_count": 10,
   "metadata": {},
   "outputs": [
    {
     "name": "stdout",
     "output_type": "stream",
     "text": [
      "epoch 1, train loss 0.003, train acc 0.750, test acc 0.794\n",
      "epoch 2, train loss 0.002, train acc 0.813, test acc 0.812\n",
      "epoch 3, train loss 0.002, train acc 0.826, test acc 0.807\n",
      "epoch 4, train loss 0.002, train acc 0.831, test acc 0.820\n",
      "epoch 5, train loss 0.002, train acc 0.837, test acc 0.822\n",
      "epoch 6, train loss 0.002, train acc 0.840, test acc 0.827\n",
      "epoch 7, train loss 0.002, train acc 0.842, test acc 0.825\n",
      "epoch 8, train loss 0.002, train acc 0.844, test acc 0.831\n",
      "epoch 9, train loss 0.002, train acc 0.846, test acc 0.833\n",
      "epoch 10, train loss 0.002, train acc 0.848, test acc 0.816\n"
     ]
    }
   ],
   "source": [
    "def train_ch3(net, train_iter, test_iter, loss, num_epochs, trainer):\n",
    "    \"\"\"Train a model.\"\"\"\n",
    "    for epoch in range(num_epochs):\n",
    "        # Training\n",
    "        train_metrics = train_epoch_ch3(net, train_iter, loss, trainer)\n",
    "        # Testing\n",
    "        test_acc = evaluate_accuracy(net, test_iter)\n",
    "        print(f'epoch {epoch + 1}, train loss {train_metrics[0]:.3f}, '\n",
    "              f'train acc {train_metrics[1]:.3f}, test acc {test_acc:.3f}')\n",
    "\n",
    "def train_epoch_ch3(net, train_iter, loss, trainer):\n",
    "    \"\"\"Train the model for one epoch.\"\"\"\n",
    "    net.train()\n",
    "    total_loss, total_correct, num_examples = 0.0, 0.0, 0\n",
    "    for X, y in train_iter:\n",
    "        y_hat = net(X)\n",
    "        # Compute loss - need to reduce to scalar\n",
    "        l = loss(y_hat, y)\n",
    "        l = l.mean()  # Add this line to get scalar loss\n",
    "        \n",
    "        trainer.zero_grad()\n",
    "        l.backward()\n",
    "        trainer.step()\n",
    "        \n",
    "        total_loss += float(l)\n",
    "        total_correct += float((y_hat.argmax(1) == y).sum())\n",
    "        num_examples += y.numel()\n",
    "    return total_loss / num_examples, total_correct / num_examples\n",
    "\n",
    "def evaluate_accuracy(net, data_iter):\n",
    "    \"\"\"Evaluate accuracy of a model on the given dataset.\"\"\"\n",
    "    net.eval()\n",
    "    total_correct, num_examples = 0.0, 0\n",
    "    with torch.no_grad():\n",
    "        for X, y in data_iter:\n",
    "            y_hat = net(X)\n",
    "            total_correct += float((y_hat.argmax(1) == y).sum())\n",
    "            num_examples += y.numel()\n",
    "    return total_correct / num_examples\n",
    "\n",
    "num_epochs = 10\n",
    "train_ch3(net, train_iter, test_iter, loss, num_epochs, trainer)\n"
   ]
  },
  {
   "cell_type": "code",
   "execution_count": null,
   "metadata": {},
   "outputs": [],
   "source": []
  }
 ],
 "metadata": {
  "kernelspec": {
   "display_name": "ai",
   "language": "python",
   "name": "python3"
  },
  "language_info": {
   "codemirror_mode": {
    "name": "ipython",
    "version": 3
   },
   "file_extension": ".py",
   "mimetype": "text/x-python",
   "name": "python",
   "nbconvert_exporter": "python",
   "pygments_lexer": "ipython3",
   "version": "3.9.20"
  }
 },
 "nbformat": 4,
 "nbformat_minor": 2
}
